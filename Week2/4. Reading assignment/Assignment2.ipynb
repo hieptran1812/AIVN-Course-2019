{
 "cells": [
  {
   "cell_type": "code",
   "execution_count": 7,
   "metadata": {
    "collapsed": true,
    "pycharm": {
     "is_executing": false
    }
   },
   "outputs": [
    {
     "name": "stdout",
     "text": [
      "Counter({9: 217, 8: 192, 7: 161, 6: 120, 5: 97, 3: 78, 4: 78, 2: 48, 1: 9})\n"
     ],
     "output_type": "stream"
    }
   ],
   "source": [
    "# Cho list data = [1, 2, 3, 4, 5, 6, 7, 8, 9].\n",
    "# Các giá trị trong list thể hiện điểm số của mỗi phần tử. Phần tử đầu có điểm số nhỏ nhất là 1 và phần tử cuối có điểm số lớn nhất là 9.\n",
    "\n",
    "import random\n",
    "import numpy as np\n",
    "import collections\n",
    "\n",
    "m = 1000\n",
    "\n",
    "list_data = np.array([1, 2, 3, 4, 5, 6, 7, 8, 9])\n",
    "\n",
    "result = np.random.choice(list_data, size=m, replace=True, p=list_data / list_data.sum())\n",
    "\n",
    "# Đếm bằng np.unique trong thư viện numpy \n",
    "# count_result = np.unique(result, return_counts=True)\n",
    "# print('Result:', count_result)\n",
    "\n",
    "# Đếm bằng Counter trong thư viện collections \n",
    "print(collections.Counter(result))"
   ]
  }
 ],
 "metadata": {
  "language_info": {
   "codemirror_mode": {
    "name": "ipython",
    "version": 2
   },
   "file_extension": ".py",
   "mimetype": "text/x-python",
   "name": "python",
   "nbconvert_exporter": "python",
   "pygments_lexer": "ipython2",
   "version": "2.7.6"
  },
  "kernelspec": {
   "name": "python3",
   "language": "python",
   "display_name": "Python 3"
  },
  "pycharm": {
   "stem_cell": {
    "cell_type": "raw",
    "source": [],
    "metadata": {
     "collapsed": false
    }
   }
  }
 },
 "nbformat": 4,
 "nbformat_minor": 0
}