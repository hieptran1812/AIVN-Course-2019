{
 "cells": [
  {
   "cell_type": "code",
   "execution_count": 1,
   "metadata": {},
   "outputs": [],
   "source": [
    "# Cho list data = [1, 2, 3, 4, 5, 6, 7, 8, 9].\n",
    "# Các giá trị trong list thể hiện điểm số của mỗi phần tử. Phần tử đầu có điểm số nhỏ nhất là 1 và phần tử cuối có điểm số lớn nhất là 9."
   ]
  },
  {
   "cell_type": "code",
   "execution_count": 2,
   "metadata": {
    "pycharm": {
     "is_executing": false,
     "name": "#%%\n"
    }
   },
   "outputs": [],
   "source": [
    "import random\n",
    "import numpy as np\n",
    "import collections\n",
    "\n",
    "m = 1000\n",
    "\n",
    "list_data = np.array([1, 2, 3, 4, 5, 6, 7, 8, 9])\n",
    "\n",
    "result = np.random.choice(list_data, size=m, replace=True, p=list_data / list_data.sum())"
   ]
  },
  {
   "cell_type": "code",
   "execution_count": 3,
   "metadata": {},
   "outputs": [
    {
     "name": "stdout",
     "output_type": "stream",
     "text": [
      "Result: (array([1, 2, 3, 4, 5, 6, 7, 8, 9]), array([ 29,  48,  65,  89, 124, 136, 152, 173, 184]))\n"
     ]
    }
   ],
   "source": [
    "# Đếm bằng np.unique trong thư viện numpy \n",
    "count_result = np.unique(result, return_counts=True)\n",
    "print('Result:', count_result)"
   ]
  },
  {
   "cell_type": "code",
   "execution_count": 4,
   "metadata": {},
   "outputs": [
    {
     "name": "stdout",
     "output_type": "stream",
     "text": [
      "Counter({9: 184, 8: 173, 7: 152, 6: 136, 5: 124, 4: 89, 3: 65, 2: 48, 1: 29})\n"
     ]
    }
   ],
   "source": [
    "# Đếm bằng Counter trong thư viện collections \n",
    "print(collections.Counter(result))"
   ]
  },
  {
   "cell_type": "code",
   "execution_count": null,
   "metadata": {},
   "outputs": [],
   "source": []
  }
 ],
 "metadata": {
  "kernelspec": {
   "display_name": "Python 3",
   "language": "python",
   "name": "python3"
  },
  "language_info": {
   "codemirror_mode": {
    "name": "ipython",
    "version": 3
   },
   "file_extension": ".py",
   "mimetype": "text/x-python",
   "name": "python",
   "nbconvert_exporter": "python",
   "pygments_lexer": "ipython3",
   "version": "3.7.3"
  },
  "pycharm": {
   "stem_cell": {
    "cell_type": "raw",
    "metadata": {
     "collapsed": false
    },
    "source": []
   }
  }
 },
 "nbformat": 4,
 "nbformat_minor": 1
}
